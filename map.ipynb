{
 "cells": [
  {
   "cell_type": "code",
   "execution_count": 211,
   "outputs": [],
   "source": [
    "import numpy as np\n",
    "import folium\n",
    "import pandas as pd\n"
   ],
   "metadata": {
    "collapsed": false,
    "pycharm": {
     "name": "#%%\n"
    }
   }
  },
  {
   "cell_type": "code",
   "execution_count": 212,
   "outputs": [
    {
     "data": {
      "text/plain": "         Name  Latitude  Longitude\n0  Santa Cruz  -0.63333  -90.36666\n1       Quito  -0.22985  -78.52495\n2       Miami  25.77427  -80.19366",
      "text/html": "<div>\n<style scoped>\n    .dataframe tbody tr th:only-of-type {\n        vertical-align: middle;\n    }\n\n    .dataframe tbody tr th {\n        vertical-align: top;\n    }\n\n    .dataframe thead th {\n        text-align: right;\n    }\n</style>\n<table border=\"1\" class=\"dataframe\">\n  <thead>\n    <tr style=\"text-align: right;\">\n      <th></th>\n      <th>Name</th>\n      <th>Latitude</th>\n      <th>Longitude</th>\n    </tr>\n  </thead>\n  <tbody>\n    <tr>\n      <th>0</th>\n      <td>Santa Cruz</td>\n      <td>-0.63333</td>\n      <td>-90.36666</td>\n    </tr>\n    <tr>\n      <th>1</th>\n      <td>Quito</td>\n      <td>-0.22985</td>\n      <td>-78.52495</td>\n    </tr>\n    <tr>\n      <th>2</th>\n      <td>Miami</td>\n      <td>25.77427</td>\n      <td>-80.19366</td>\n    </tr>\n  </tbody>\n</table>\n</div>"
     },
     "execution_count": 212,
     "metadata": {},
     "output_type": "execute_result"
    }
   ],
   "source": [
    "data = pd.read_csv('data.csv')\n",
    "data.head(3)"
   ],
   "metadata": {
    "collapsed": false,
    "pycharm": {
     "name": "#%% Load data\n"
    }
   }
  },
  {
   "cell_type": "code",
   "execution_count": 213,
   "outputs": [],
   "source": [
    "\n",
    "my_map = folium.Map(\n",
    "    location=[14.786450, -87.209672],\n",
    "    zoom_start=3.5\n",
    ")\n",
    "for _, city in data.iterrows():\n",
    "    folium.Marker(\n",
    "        location=[city['Latitude'], city['Longitude']],\n",
    "        tooltip=city['Name']\n",
    "    ).add_to(my_map)"
   ],
   "metadata": {
    "collapsed": false,
    "pycharm": {
     "name": "#%% Create map with markers\n"
    }
   }
  },
  {
   "cell_type": "code",
   "execution_count": 214,
   "outputs": [],
   "source": [
    "coordinates = []\n",
    "for _, point in data.iterrows():\n",
    "    coordinates.append((point['Latitude'], point['Longitude']))\n",
    "\n",
    "coordinates\n",
    "for i in range(len(coordinates)-1):\n",
    "    line = folium.PolyLine(\n",
    "            locations=[coordinates[i],coordinates[i+1]]\n",
    "        )\n",
    "    my_map.add_child(line)\n",
    "\n",
    "my_map.save('fish_track_map.html')"
   ],
   "metadata": {
    "collapsed": false,
    "pycharm": {
     "name": "#%%\n"
    }
   }
  }
 ],
 "metadata": {
  "kernelspec": {
   "display_name": "Python 3",
   "language": "python",
   "name": "python3"
  },
  "language_info": {
   "codemirror_mode": {
    "name": "ipython",
    "version": 2
   },
   "file_extension": ".py",
   "mimetype": "text/x-python",
   "name": "python",
   "nbconvert_exporter": "python",
   "pygments_lexer": "ipython2",
   "version": "2.7.6"
  }
 },
 "nbformat": 4,
 "nbformat_minor": 0
}